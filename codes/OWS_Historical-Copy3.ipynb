{
 "cells": [
  {
   "cell_type": "code",
   "execution_count": 1,
   "metadata": {},
   "outputs": [],
   "source": [
    "# 04/13/2020\n",
    "# Aline Jaimes\n",
    "# Source: Open Weather Map\n",
    "# URL:https://home.openweathermap.org/history_bulks/new\n",
    "# \n",
    "# A json file that contains historical weather data for 5 ENGIE/SoCORE sites from 1978\n",
    "#  - Connexus Anoka, MN\t    45.234472\t-93.480455\n",
    "#  - Connexus Athens, MN\t45.460039\t-93.265761\n",
    "#  - Xcel Gopher, MN\t    45.398562\t-92.679157\n",
    "#  - Xcel Richmond, MN\t    45.458606\t-94.513847\n",
    "#  - Goose Lake, MN\t        43.665767\t-93.29898\n",
    "\n",
    "# Preprocessing\n",
    "# 1) Convert Raw Data to DataFrame\n",
    "# [1809360 rows x 12 columns]\n",
    "# 2) Plot data\n",
    "# 3) Send dataframe to a data table in the Sandbox\n",
    "\n",
    "# Analysis\n",
    "#   Background. Moisture affects irradiance sensor and affects data quality\n",
    "# It is worse when snow covers the panel because it is basically\n",
    "# moisture in transition period (Dew/Fog).\n",
    "#   Goal. Analyze moisture in the air.\n",
    "# From those parameters temperature/ humidity/pressure/ \n",
    "# Determine the probable status or dew point.\n",
    "# Come up with some opinion about the probabily \n",
    "# that the moisture in the air is condensed(fog, mist, dew)\n"
   ]
  },
  {
   "cell_type": "code",
   "execution_count": 5,
   "metadata": {},
   "outputs": [],
   "source": [
    "# Declare Dependencies\n",
    "import numpy as np\n",
    "import pandas as pd\n",
    "import seaborn as sns\n",
    "import matplotlib as plt\n",
    "import json\n",
    "import requests\n",
    "#import pytemperature\n",
    "\n",
    "%matplotlib inline"
   ]
  },
  {
   "cell_type": "code",
   "execution_count": 6,
   "metadata": {},
   "outputs": [],
   "source": [
    "# Read json data into a dataframe\n",
    "link = 'http://history.openweathermap.org/storage/a8273f596f2d4a7900fed4dc6554d809.json'\n",
    "r = requests.get(url=link)\n",
    "dict = r.json()\n",
    "df=pd.DataFrame(dict)"
   ]
  },
  {
   "cell_type": "code",
   "execution_count": 23,
   "metadata": {},
   "outputs": [],
   "source": [
    "# Getting the subdictionaries within the dataframe\n",
    "a=df['main'].apply(pd.Series)\n",
    "df1=pd.concat([df.drop(['main'], axis=1), a], axis=1)\n",
    "b=df1['wind'].apply(pd.Series)\n",
    "df2=pd.concat([df1.drop(['wind'], axis=1), b], axis=1)\n",
    "c=df2['weather'].apply(pd.Series)\n",
    "df3=pd.concat([df2.drop(['weather'], axis=1), c], axis=1)\n",
    "d=df3['clouds'].apply(pd.Series)\n",
    "df4=pd.concat([df3.drop(['clouds'], axis=1), d], axis=1)\n",
    "df4.head()\n",
    "df4.columns"
   ]
  },
  {
   "cell_type": "code",
   "execution_count": 92,
   "metadata": {},
   "outputs": [],
   "source": [
    "# Filtering data\n",
    "weather_data = df4.filter(items=['city_name', 'lat', 'lon', 'dt_iso','snow','rain','temp','temp_min','temp_max',\n",
    "                               'feels_like', 'pressure', 'humidity', 'speed', 'deg'])"
   ]
  },
  {
   "cell_type": "code",
   "execution_count": 94,
   "metadata": {},
   "outputs": [],
   "source": [
    "# Saving datatable into a csv file\n",
    "weather_data.to_csv('Historical_OWS_Data.csv',index=False)"
   ]
  },
  {
   "cell_type": "code",
   "execution_count": null,
   "metadata": {},
   "outputs": [],
   "source": [
    "# Get data into datbase\n",
    "# Note: I am unable to connect to the database \n",
    "import pymysql.cursors\n",
    "\n",
    "# Connect to the database\n",
    "connection = pymysql.connect(host='192.168.2.205',\n",
    "                             port='3306',\n",
    "                             user='ajames',\n",
    "                             password='efbji%*',\n",
    "                             db='sandbox',\n",
    "                             charset='utf8mb4',\n",
    "                             cursorclass=pymysql.cursors.DictCursor)"
   ]
  },
  {
   "cell_type": "code",
   "execution_count": null,
   "metadata": {},
   "outputs": [],
   "source": [
    "# Figures\n",
    "# Some figures are in PowerBi"
   ]
  },
  {
   "cell_type": "code",
   "execution_count": null,
   "metadata": {},
   "outputs": [],
   "source": []
  }
 ],
 "metadata": {
  "kernelspec": {
   "display_name": "Python 3",
   "language": "python",
   "name": "python3"
  },
  "language_info": {
   "codemirror_mode": {
    "name": "ipython",
    "version": 3
   },
   "file_extension": ".py",
   "mimetype": "text/x-python",
   "name": "python",
   "nbconvert_exporter": "python",
   "pygments_lexer": "ipython3",
   "version": "3.7.7"
  }
 },
 "nbformat": 4,
 "nbformat_minor": 4
}
