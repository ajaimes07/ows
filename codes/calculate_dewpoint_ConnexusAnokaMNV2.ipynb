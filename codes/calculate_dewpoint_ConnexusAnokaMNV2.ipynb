{
 "cells": [
  {
   "cell_type": "code",
   "execution_count": 4,
   "metadata": {},
   "outputs": [],
   "source": [
    "# 04/14/2020\n",
    "# Aline Jaimes\n",
    "\n",
    "# Analysis\n",
    "#   Background. Moisture affects irradiance sensor and affects data quality\n",
    "# It is worse when snow covers the panel because it is basically\n",
    "# moisture in transition period (Dew/Fog).\n",
    "#   Goal. Analyze moisture in the air.\n",
    "# From those parameters temperature/ humidity/pressure/ \n",
    "# Determine the probable status or dew point.\n",
    "# Come up with some opinion about the probabily \n",
    "# that the moisture in the air is condensed(fog, mist, dew)\n",
    "#\n",
    "# Dewpoint calculation\n",
    "#Historical_OWS_Data.csv\n"
   ]
  },
  {
   "cell_type": "code",
   "execution_count": 1,
   "metadata": {},
   "outputs": [],
   "source": [
    "# 1. Import dependencies\n",
    "import os\n",
    "import csv\n",
    "import sys\n",
    "import math\n",
    "import pyowm\n",
    "import warnings\n",
    "import numpy as np \n",
    "import pandas as pd\n",
    "import seaborn as sns\n",
    "from scipy import stats\n",
    "import string as string\n",
    "from datetime import time\n",
    "import matplotlib.pyplot as plt \n",
    "warnings.filterwarnings('ignore')\n",
    "from mpl_toolkits.mplot3d import Axes3D\n",
    "\n",
    "warnings.filterwarnings('ignore')\n",
    "%matplotlib inline"
   ]
  },
  {
   "cell_type": "code",
   "execution_count": 2,
   "metadata": {},
   "outputs": [],
   "source": [
    "# Read data from source\n",
    "link = 'http://history.openweathermap.org/storage/35acbd5930dfa0c93a57a10fd3b385f4.csv'\n",
    "# Read file\n",
    "df = pd.read_csv(link)\n"
   ]
  },
  {
   "cell_type": "code",
   "execution_count": 3,
   "metadata": {},
   "outputs": [
    {
     "data": {
      "text/plain": [
       "0         Clear\n",
       "1         Clear\n",
       "2        Clouds\n",
       "3        Clouds\n",
       "4        Clouds\n",
       "          ...  \n",
       "47618      Snow\n",
       "47619      Rain\n",
       "47620      Snow\n",
       "47621      Rain\n",
       "47622    Clouds\n",
       "Name: weather_main, Length: 47623, dtype: object"
      ]
     },
     "execution_count": 3,
     "metadata": {},
     "output_type": "execute_result"
    }
   ],
   "source": [
    "df.weather_main"
   ]
  },
  {
   "cell_type": "code",
   "execution_count": 4,
   "metadata": {
    "scrolled": false
   },
   "outputs": [
    {
     "data": {
      "text/plain": [
       "Index(['dt', 'dt_iso', 'timezone', 'city_name', 'lat', 'lon', 'temp',\n",
       "       'feels_like', 'temp_min', 'temp_max', 'pressure', 'sea_level',\n",
       "       'grnd_level', 'humidity', 'wind_speed', 'wind_deg', 'rain_1h',\n",
       "       'rain_3h', 'snow_1h', 'snow_3h', 'clouds_all', 'weather_id',\n",
       "       'weather_main', 'weather_description', 'weather_icon'],\n",
       "      dtype='object')"
      ]
     },
     "execution_count": 4,
     "metadata": {},
     "output_type": "execute_result"
    }
   ],
   "source": [
    "df.columns"
   ]
  },
  {
   "cell_type": "code",
   "execution_count": 39,
   "metadata": {},
   "outputs": [
    {
     "data": {
      "text/plain": [
       "clouds_all\n",
       "0         77\n",
       "1      22380\n",
       "3          3\n",
       "4          2\n",
       "5         10\n",
       "6          3\n",
       "7          3\n",
       "8          1\n",
       "9          2\n",
       "11         3\n",
       "12         2\n",
       "13         1\n",
       "16         3\n",
       "17         1\n",
       "19         2\n",
       "20      1552\n",
       "22         1\n",
       "25         1\n",
       "26         1\n",
       "31         1\n",
       "33         1\n",
       "36         1\n",
       "40      2758\n",
       "42         3\n",
       "43         1\n",
       "47         1\n",
       "48         1\n",
       "49         3\n",
       "50         1\n",
       "53         3\n",
       "60         2\n",
       "61         1\n",
       "64         1\n",
       "74         1\n",
       "75      3498\n",
       "78         1\n",
       "79         1\n",
       "82         2\n",
       "84         1\n",
       "86         2\n",
       "87         1\n",
       "88         5\n",
       "89         1\n",
       "90     17206\n",
       "93         7\n",
       "94         1\n",
       "96         5\n",
       "97         5\n",
       "98         7\n",
       "99         7\n",
       "100       46\n",
       "Name: clouds_all, dtype: int64"
      ]
     },
     "execution_count": 39,
     "metadata": {},
     "output_type": "execute_result"
    }
   ],
   "source": [
    "# Create a group based on the values in the 'weather description' column\n",
    "clouds_all = df.groupby('clouds_all')\n",
    "## Count how weather description are in a group\n",
    "count_clouds_all = clouds_all['clouds_all'].count()\n",
    "count_clouds_all"
   ]
  },
  {
   "cell_type": "code",
   "execution_count": 40,
   "metadata": {},
   "outputs": [
    {
     "data": {
      "image/png": "[encoded data removed]",
      "text/plain": [
       "<Figure size 432x288 with 1 Axes>"
      ]
     },
     "metadata": {
      "needs_background": "light"
     },
     "output_type": "display_data"
    }
   ],
   "source": [
    "## Create a bar chart based off of the group series from before\n",
    "count_clouds_all_type= count_clouds_all.plot(kind='bar')\n",
    "## Set the xlabel and ylabel using class methods\n",
    "count_clouds_all_type.set_xlabel(\"weather_icon\")\n",
    "count_clouds_all_type.set_ylabel(\"Frequency\")\n",
    "plt.show()\n",
    "#plt.tight_layout()"
   ]
  },
  {
   "cell_type": "code",
   "execution_count": 37,
   "metadata": {},
   "outputs": [
    {
     "data": {
      "text/plain": [
       "weather_icon\n",
       "01d    10428\n",
       "01n    11382\n",
       "02d     1050\n",
       "02n      452\n",
       "03d     1673\n",
       "03n      928\n",
       "04d     7267\n",
       "04n     6653\n",
       "09d       81\n",
       "09n      137\n",
       "10d     1390\n",
       "10n     1018\n",
       "11d      154\n",
       "11n       95\n",
       "13d      667\n",
       "13n      829\n",
       "50d     1472\n",
       "50n     1947\n",
       "Name: weather_icon, dtype: int64"
      ]
     },
     "execution_count": 37,
     "metadata": {},
     "output_type": "execute_result"
    }
   ],
   "source": [
    "# Create a group based on the values in the 'weather description' column\n",
    "weather_iconClasses = df.groupby('weather_icon')\n",
    "## Count how weather description are in a group\n",
    "count_weather_icon = weather_iconClasses['weather_icon'].count()\n",
    "count_weather_icon"
   ]
  },
  {
   "cell_type": "code",
   "execution_count": 97,
   "metadata": {},
   "outputs": [
    {
     "data": {
      "image/png": "[encoded data removed]",
      "text/plain": [
       "<Figure size 432x288 with 1 Axes>"
      ]
     },
     "metadata": {
      "needs_background": "light"
     },
     "output_type": "display_data"
    }
   ],
   "source": [
    "## Create a bar chart based off of the group series from before\n",
    "count_weather_icon_type= count_weather_icon.plot(kind='bar')\n",
    "## Set the xlabel and ylabel using class methods\n",
    "count_weather_icon_type.set_xlabel(\"weather_icon\")\n",
    "count_weather_icon_type.set_ylabel(\"Frequency\")\n",
    "plt.show()\n",
    "#plt.tight_layout()"
   ]
  },
  {
   "cell_type": "code",
   "execution_count": 7,
   "metadata": {},
   "outputs": [
    {
     "data": {
      "text/plain": [
       "weather_main\n",
       "Clear           21810\n",
       "Clouds          18023\n",
       "Drizzle           217\n",
       "Fog               246\n",
       "Haze              380\n",
       "Mist             2793\n",
       "Rain             2409\n",
       "Snow             1496\n",
       "Thunderstorm      249\n",
       "Name: weather_main, dtype: int64"
      ]
     },
     "execution_count": 7,
     "metadata": {},
     "output_type": "execute_result"
    }
   ],
   "source": [
    "# Create a group based on the values in the 'weather description' column\n",
    "WeatherDescriptionClasses = df.groupby('weather_main')\n",
    "## Count how weather description are in a group\n",
    "count_weather_main = WeatherDescriptionClasses['weather_main'].count()\n",
    "count_weather_main"
   ]
  },
  {
   "cell_type": "code",
   "execution_count": 8,
   "metadata": {},
   "outputs": [
    {
     "data": {
      "image/png": "[encoded data removed]",
      "text/plain": [
       "<Figure size 432x288 with 1 Axes>"
      ]
     },
     "metadata": {
      "needs_background": "light"
     },
     "output_type": "display_data"
    }
   ],
   "source": [
    "## Create a bar chart based off of the group series from before\n",
    "count_weather_main_type= count_weather_main.plot(kind='bar')\n",
    "## Set the xlabel and ylabel using class methods\n",
    "count_weather_main_type.set_xlabel(\"weather_main\")\n",
    "count_weather_main_type.set_ylabel(\"Frequency\")\n",
    "plt.show()\n",
    "#plt.tight_layout()"
   ]
  },
  {
   "cell_type": "code",
   "execution_count": 9,
   "metadata": {},
   "outputs": [
    {
     "ename": "NameError",
     "evalue": "name 'df1' is not defined",
     "output_type": "error",
     "traceback": [
      "\u001b[1;31m---------------------------------------------------------------------------\u001b[0m",
      "\u001b[1;31mNameError\u001b[0m                                 Traceback (most recent call last)",
      "\u001b[1;32m<ipython-input-9-49966072f46b>\u001b[0m in \u001b[0;36m<module>\u001b[1;34m\u001b[0m\n\u001b[0;32m      1\u001b[0m \u001b[1;31m# Create a group based on the values in the 'weather description' column\u001b[0m\u001b[1;33m\u001b[0m\u001b[1;33m\u001b[0m\u001b[1;33m\u001b[0m\u001b[0m\n\u001b[1;32m----> 2\u001b[1;33m \u001b[0mWeatherDescriptionClasses\u001b[0m \u001b[1;33m=\u001b[0m \u001b[0mdf1\u001b[0m\u001b[1;33m.\u001b[0m\u001b[0mgroupby\u001b[0m\u001b[1;33m(\u001b[0m\u001b[1;34m'weather_description'\u001b[0m\u001b[1;33m)\u001b[0m\u001b[1;33m\u001b[0m\u001b[1;33m\u001b[0m\u001b[0m\n\u001b[0m",
      "\u001b[1;31mNameError\u001b[0m: name 'df1' is not defined"
     ]
    }
   ],
   "source": [
    "# Create a group based on the values in the 'weather description' column\n",
    "WeatherDescriptionClasses = df1.groupby('weather_description')"
   ]
  },
  {
   "cell_type": "code",
   "execution_count": 10,
   "metadata": {},
   "outputs": [
    {
     "data": {
      "text/plain": [
       "weather_main\n",
       "Clear           21810\n",
       "Clouds          18023\n",
       "Drizzle           217\n",
       "Fog               246\n",
       "Haze              380\n",
       "Mist             2793\n",
       "Rain             2409\n",
       "Snow             1496\n",
       "Thunderstorm      249\n",
       "Name: weather_description, dtype: int64"
      ]
     },
     "execution_count": 10,
     "metadata": {},
     "output_type": "execute_result"
    }
   ],
   "source": [
    "## Count how weather description are in a group\n",
    "count_WeatherDescription = WeatherDescriptionClasses['weather_description'].count()\n",
    "count_WeatherDescription\n"
   ]
  },
  {
   "cell_type": "code",
   "execution_count": 11,
   "metadata": {},
   "outputs": [
    {
     "data": {
      "text/plain": [
       "weather_main\n",
       "Clear      21810\n",
       "Clouds     18023\n",
       "Drizzle      217\n",
       "Fog          246\n",
       "Haze         380\n",
       "Name: weather_description, dtype: int64"
      ]
     },
     "execution_count": 11,
     "metadata": {},
     "output_type": "execute_result"
    }
   ],
   "source": [
    "count_WeatherDescription.head()"
   ]
  },
  {
   "cell_type": "code",
   "execution_count": 12,
   "metadata": {},
   "outputs": [
    {
     "data": {
      "image/png": "[encoded data removed]",
      "text/plain": [
       "<Figure size 432x288 with 1 Axes>"
      ]
     },
     "metadata": {
      "needs_background": "light"
     },
     "output_type": "display_data"
    }
   ],
   "source": [
    "## Create a bar chart based off of the group series from before\n",
    "count_WeatherDescription_Type= count_WeatherDescription.plot(kind='bar')\n",
    "\n",
    "## Set the xlabel and ylabel using class methods\n",
    "count_WeatherDescription_Type.set_xlabel(\"Weather_Description\")\n",
    "count_WeatherDescription_Type.set_ylabel(\"Frequency\")\n",
    "plt.show()\n",
    "#plt.tight_layout()"
   ]
  },
  {
   "cell_type": "code",
   "execution_count": 13,
   "metadata": {},
   "outputs": [],
   "source": [
    "# Calculate DewPoint\n",
    "t_air_c=df.temp\n",
    "rel_humidity=df.humidity\n",
    "A = 17.27\n",
    "B = 237.7\n",
    "dp1=(A*df.temp)/(B+df.temp)\n",
    "m=(df.humidity/100.0)\n",
    "mlog=np.log2(m)\n",
    "alpha=(dp1+m)\n",
    "#alpha = ((A * t_air_c) / (B + t_air_c)) + math.log(rel_humidity/100.0)\n",
    "dp=(B * alpha) / (A - alpha)    "
   ]
  },
  {
   "cell_type": "code",
   "execution_count": 14,
   "metadata": {},
   "outputs": [
    {
     "name": "stdout",
     "output_type": "stream",
     "text": [
      "There are 47623 rows and 25 columns\n"
     ]
    }
   ],
   "source": [
    "nRow, nCol = df.shape\n",
    "print(f'There are {nRow} rows and {nCol} columns')"
   ]
  },
  {
   "cell_type": "code",
   "execution_count": 15,
   "metadata": {},
   "outputs": [
    {
     "data": {
      "text/html": [
       "<div>\n",
       "<style scoped>\n",
       "    .dataframe tbody tr th:only-of-type {\n",
       "        vertical-align: middle;\n",
       "    }\n",
       "\n",
       "    .dataframe tbody tr th {\n",
       "        vertical-align: top;\n",
       "    }\n",
       "\n",
       "    .dataframe thead th {\n",
       "        text-align: right;\n",
       "    }\n",
       "</style>\n",
       "<table border=\"1\" class=\"dataframe\">\n",
       "  <thead>\n",
       "    <tr style=\"text-align: right;\">\n",
       "      <th></th>\n",
       "      <th>dt</th>\n",
       "      <th>timezone</th>\n",
       "      <th>lat</th>\n",
       "      <th>lon</th>\n",
       "      <th>temp</th>\n",
       "      <th>feels_like</th>\n",
       "      <th>temp_min</th>\n",
       "      <th>temp_max</th>\n",
       "      <th>pressure</th>\n",
       "      <th>sea_level</th>\n",
       "      <th>grnd_level</th>\n",
       "      <th>humidity</th>\n",
       "      <th>wind_speed</th>\n",
       "      <th>wind_deg</th>\n",
       "      <th>rain_1h</th>\n",
       "      <th>rain_3h</th>\n",
       "      <th>snow_1h</th>\n",
       "      <th>snow_3h</th>\n",
       "      <th>clouds_all</th>\n",
       "      <th>weather_id</th>\n",
       "    </tr>\n",
       "  </thead>\n",
       "  <tbody>\n",
       "    <tr>\n",
       "      <th>count</th>\n",
       "      <td>4.762300e+04</td>\n",
       "      <td>47623.000000</td>\n",
       "      <td>4.762300e+04</td>\n",
       "      <td>4.762300e+04</td>\n",
       "      <td>47623.000000</td>\n",
       "      <td>47623.000000</td>\n",
       "      <td>47623.000000</td>\n",
       "      <td>47623.000000</td>\n",
       "      <td>47623.000000</td>\n",
       "      <td>0.0</td>\n",
       "      <td>0.0</td>\n",
       "      <td>47623.000000</td>\n",
       "      <td>47623.000000</td>\n",
       "      <td>47623.000000</td>\n",
       "      <td>1321.000000</td>\n",
       "      <td>4.000000</td>\n",
       "      <td>205.000000</td>\n",
       "      <td>5.00</td>\n",
       "      <td>47623.000000</td>\n",
       "      <td>47623.000000</td>\n",
       "    </tr>\n",
       "    <tr>\n",
       "      <th>mean</th>\n",
       "      <td>1.503995e+09</td>\n",
       "      <td>-19316.842702</td>\n",
       "      <td>4.523447e+01</td>\n",
       "      <td>-9.348045e+01</td>\n",
       "      <td>7.488394</td>\n",
       "      <td>3.858529</td>\n",
       "      <td>6.402452</td>\n",
       "      <td>8.499089</td>\n",
       "      <td>1015.022069</td>\n",
       "      <td>NaN</td>\n",
       "      <td>NaN</td>\n",
       "      <td>68.764442</td>\n",
       "      <td>3.703436</td>\n",
       "      <td>195.445940</td>\n",
       "      <td>1.046185</td>\n",
       "      <td>0.860000</td>\n",
       "      <td>0.472585</td>\n",
       "      <td>0.13</td>\n",
       "      <td>41.680050</td>\n",
       "      <td>767.683934</td>\n",
       "    </tr>\n",
       "    <tr>\n",
       "      <th>std</th>\n",
       "      <td>4.834682e+07</td>\n",
       "      <td>1733.961407</td>\n",
       "      <td>1.421100e-14</td>\n",
       "      <td>1.421100e-14</td>\n",
       "      <td>12.640799</td>\n",
       "      <td>14.654864</td>\n",
       "      <td>12.691194</td>\n",
       "      <td>12.650050</td>\n",
       "      <td>8.259287</td>\n",
       "      <td>NaN</td>\n",
       "      <td>NaN</td>\n",
       "      <td>17.890851</td>\n",
       "      <td>1.923752</td>\n",
       "      <td>101.862878</td>\n",
       "      <td>1.811617</td>\n",
       "      <td>0.680735</td>\n",
       "      <td>0.374524</td>\n",
       "      <td>0.00</td>\n",
       "      <td>41.568472</td>\n",
       "      <td>91.537106</td>\n",
       "    </tr>\n",
       "    <tr>\n",
       "      <th>min</th>\n",
       "      <td>1.420070e+09</td>\n",
       "      <td>-21600.000000</td>\n",
       "      <td>4.523447e+01</td>\n",
       "      <td>-9.348046e+01</td>\n",
       "      <td>-33.660000</td>\n",
       "      <td>-41.070000</td>\n",
       "      <td>-36.670000</td>\n",
       "      <td>-32.780000</td>\n",
       "      <td>973.000000</td>\n",
       "      <td>NaN</td>\n",
       "      <td>NaN</td>\n",
       "      <td>11.000000</td>\n",
       "      <td>0.030000</td>\n",
       "      <td>0.000000</td>\n",
       "      <td>0.110000</td>\n",
       "      <td>0.190000</td>\n",
       "      <td>0.250000</td>\n",
       "      <td>0.13</td>\n",
       "      <td>0.000000</td>\n",
       "      <td>200.000000</td>\n",
       "    </tr>\n",
       "    <tr>\n",
       "      <th>25%</th>\n",
       "      <td>1.461742e+09</td>\n",
       "      <td>-21600.000000</td>\n",
       "      <td>4.523447e+01</td>\n",
       "      <td>-9.348046e+01</td>\n",
       "      <td>-1.540000</td>\n",
       "      <td>-7.010000</td>\n",
       "      <td>-2.500000</td>\n",
       "      <td>-0.890000</td>\n",
       "      <td>1010.000000</td>\n",
       "      <td>NaN</td>\n",
       "      <td>NaN</td>\n",
       "      <td>56.000000</td>\n",
       "      <td>2.100000</td>\n",
       "      <td>120.000000</td>\n",
       "      <td>0.250000</td>\n",
       "      <td>0.422500</td>\n",
       "      <td>0.250000</td>\n",
       "      <td>0.13</td>\n",
       "      <td>1.000000</td>\n",
       "      <td>800.000000</td>\n",
       "    </tr>\n",
       "    <tr>\n",
       "      <th>50%</th>\n",
       "      <td>1.504386e+09</td>\n",
       "      <td>-18000.000000</td>\n",
       "      <td>4.523447e+01</td>\n",
       "      <td>-9.348046e+01</td>\n",
       "      <td>7.560000</td>\n",
       "      <td>3.370000</td>\n",
       "      <td>6.500000</td>\n",
       "      <td>8.330000</td>\n",
       "      <td>1015.000000</td>\n",
       "      <td>NaN</td>\n",
       "      <td>NaN</td>\n",
       "      <td>70.000000</td>\n",
       "      <td>3.100000</td>\n",
       "      <td>190.000000</td>\n",
       "      <td>0.380000</td>\n",
       "      <td>0.750000</td>\n",
       "      <td>0.250000</td>\n",
       "      <td>0.13</td>\n",
       "      <td>20.000000</td>\n",
       "      <td>800.000000</td>\n",
       "    </tr>\n",
       "    <tr>\n",
       "      <th>75%</th>\n",
       "      <td>1.546198e+09</td>\n",
       "      <td>-18000.000000</td>\n",
       "      <td>4.523447e+01</td>\n",
       "      <td>-9.348046e+01</td>\n",
       "      <td>18.190000</td>\n",
       "      <td>16.730000</td>\n",
       "      <td>17.190000</td>\n",
       "      <td>19.090000</td>\n",
       "      <td>1020.000000</td>\n",
       "      <td>NaN</td>\n",
       "      <td>NaN</td>\n",
       "      <td>83.000000</td>\n",
       "      <td>4.630000</td>\n",
       "      <td>290.000000</td>\n",
       "      <td>1.020000</td>\n",
       "      <td>1.187500</td>\n",
       "      <td>0.510000</td>\n",
       "      <td>0.13</td>\n",
       "      <td>90.000000</td>\n",
       "      <td>803.000000</td>\n",
       "    </tr>\n",
       "    <tr>\n",
       "      <th>max</th>\n",
       "      <td>1.586819e+09</td>\n",
       "      <td>-18000.000000</td>\n",
       "      <td>4.523447e+01</td>\n",
       "      <td>-9.348046e+01</td>\n",
       "      <td>37.010000</td>\n",
       "      <td>36.830000</td>\n",
       "      <td>35.600000</td>\n",
       "      <td>38.000000</td>\n",
       "      <td>1049.000000</td>\n",
       "      <td>NaN</td>\n",
       "      <td>NaN</td>\n",
       "      <td>100.000000</td>\n",
       "      <td>20.000000</td>\n",
       "      <td>360.000000</td>\n",
       "      <td>24.300000</td>\n",
       "      <td>1.750000</td>\n",
       "      <td>2.030000</td>\n",
       "      <td>0.13</td>\n",
       "      <td>100.000000</td>\n",
       "      <td>804.000000</td>\n",
       "    </tr>\n",
       "  </tbody>\n",
       "</table>\n",
       "</div>"
      ],
      "text/plain": [
       "                 dt      timezone           lat           lon          temp  \\\n",
       "count  4.762300e+04  47623.000000  4.762300e+04  4.762300e+04  47623.000000   \n",
       "mean   1.503995e+09 -19316.842702  4.523447e+01 -9.348045e+01      7.488394   \n",
       "std    4.834682e+07   1733.961407  1.421100e-14  1.421100e-14     12.640799   \n",
       "min    1.420070e+09 -21600.000000  4.523447e+01 -9.348046e+01    -33.660000   \n",
       "25%    1.461742e+09 -21600.000000  4.523447e+01 -9.348046e+01     -1.540000   \n",
       "50%    1.504386e+09 -18000.000000  4.523447e+01 -9.348046e+01      7.560000   \n",
       "75%    1.546198e+09 -18000.000000  4.523447e+01 -9.348046e+01     18.190000   \n",
       "max    1.586819e+09 -18000.000000  4.523447e+01 -9.348046e+01     37.010000   \n",
       "\n",
       "         feels_like      temp_min      temp_max      pressure  sea_level  \\\n",
       "count  47623.000000  47623.000000  47623.000000  47623.000000        0.0   \n",
       "mean       3.858529      6.402452      8.499089   1015.022069        NaN   \n",
       "std       14.654864     12.691194     12.650050      8.259287        NaN   \n",
       "min      -41.070000    -36.670000    -32.780000    973.000000        NaN   \n",
       "25%       -7.010000     -2.500000     -0.890000   1010.000000        NaN   \n",
       "50%        3.370000      6.500000      8.330000   1015.000000        NaN   \n",
       "75%       16.730000     17.190000     19.090000   1020.000000        NaN   \n",
       "max       36.830000     35.600000     38.000000   1049.000000        NaN   \n",
       "\n",
       "       grnd_level      humidity    wind_speed      wind_deg      rain_1h  \\\n",
       "count         0.0  47623.000000  47623.000000  47623.000000  1321.000000   \n",
       "mean          NaN     68.764442      3.703436    195.445940     1.046185   \n",
       "std           NaN     17.890851      1.923752    101.862878     1.811617   \n",
       "min           NaN     11.000000      0.030000      0.000000     0.110000   \n",
       "25%           NaN     56.000000      2.100000    120.000000     0.250000   \n",
       "50%           NaN     70.000000      3.100000    190.000000     0.380000   \n",
       "75%           NaN     83.000000      4.630000    290.000000     1.020000   \n",
       "max           NaN    100.000000     20.000000    360.000000    24.300000   \n",
       "\n",
       "        rain_3h     snow_1h  snow_3h    clouds_all    weather_id  \n",
       "count  4.000000  205.000000     5.00  47623.000000  47623.000000  \n",
       "mean   0.860000    0.472585     0.13     41.680050    767.683934  \n",
       "std    0.680735    0.374524     0.00     41.568472     91.537106  \n",
       "min    0.190000    0.250000     0.13      0.000000    200.000000  \n",
       "25%    0.422500    0.250000     0.13      1.000000    800.000000  \n",
       "50%    0.750000    0.250000     0.13     20.000000    800.000000  \n",
       "75%    1.187500    0.510000     0.13     90.000000    803.000000  \n",
       "max    1.750000    2.030000     0.13    100.000000    804.000000  "
      ]
     },
     "execution_count": 15,
     "metadata": {},
     "output_type": "execute_result"
    }
   ],
   "source": [
    "df.describe()"
   ]
  },
  {
   "cell_type": "code",
   "execution_count": 16,
   "metadata": {},
   "outputs": [
    {
     "name": "stdout",
     "output_type": "stream",
     "text": [
      " start  2014-12-31 18:00:00\n"
     ]
    }
   ],
   "source": [
    "import time \n",
    "print(' start ' , time.strftime('%Y-%m-%d %H:%M:%S', time.localtime(int(df['dt'].iloc[0]))))"
   ]
  },
  {
   "cell_type": "code",
   "execution_count": 17,
   "metadata": {},
   "outputs": [],
   "source": [
    "time_index = pd.date_range('2014-12-31 18:00:00', periods=47623,  freq='1h')  \n",
    "new=time_index"
   ]
  },
  {
   "cell_type": "code",
   "execution_count": 18,
   "metadata": {},
   "outputs": [],
   "source": [
    "df1 = df.set_index(time_index)\n",
    "#df1"
   ]
  },
  {
   "cell_type": "code",
   "execution_count": 19,
   "metadata": {},
   "outputs": [
    {
     "data": {
      "text/html": [
       "<div>\n",
       "<style scoped>\n",
       "    .dataframe tbody tr th:only-of-type {\n",
       "        vertical-align: middle;\n",
       "    }\n",
       "\n",
       "    .dataframe tbody tr th {\n",
       "        vertical-align: top;\n",
       "    }\n",
       "\n",
       "    .dataframe thead th {\n",
       "        text-align: right;\n",
       "    }\n",
       "</style>\n",
       "<table border=\"1\" class=\"dataframe\">\n",
       "  <thead>\n",
       "    <tr style=\"text-align: right;\">\n",
       "      <th></th>\n",
       "      <th>dt</th>\n",
       "      <th>dt_iso</th>\n",
       "      <th>timezone</th>\n",
       "      <th>city_name</th>\n",
       "      <th>lat</th>\n",
       "      <th>lon</th>\n",
       "      <th>temp</th>\n",
       "      <th>feels_like</th>\n",
       "      <th>temp_min</th>\n",
       "      <th>temp_max</th>\n",
       "      <th>...</th>\n",
       "      <th>wind_deg</th>\n",
       "      <th>rain_1h</th>\n",
       "      <th>rain_3h</th>\n",
       "      <th>snow_1h</th>\n",
       "      <th>snow_3h</th>\n",
       "      <th>clouds_all</th>\n",
       "      <th>weather_id</th>\n",
       "      <th>weather_main</th>\n",
       "      <th>weather_description</th>\n",
       "      <th>weather_icon</th>\n",
       "    </tr>\n",
       "  </thead>\n",
       "  <tbody>\n",
       "    <tr>\n",
       "      <th>2014-12-31 18:00:00</th>\n",
       "      <td>2014-12-31 18:00:00</td>\n",
       "      <td>2015-01-01 00:00:00 +0000 UTC</td>\n",
       "      <td>-21600</td>\n",
       "      <td>Connexus Anoka MN</td>\n",
       "      <td>45.234472</td>\n",
       "      <td>-93.480455</td>\n",
       "      <td>-11.49</td>\n",
       "      <td>-17.83</td>\n",
       "      <td>-11.87</td>\n",
       "      <td>-11.0</td>\n",
       "      <td>...</td>\n",
       "      <td>230</td>\n",
       "      <td>NaN</td>\n",
       "      <td>NaN</td>\n",
       "      <td>NaN</td>\n",
       "      <td>NaN</td>\n",
       "      <td>1</td>\n",
       "      <td>800</td>\n",
       "      <td>Clear</td>\n",
       "      <td>sky is clear</td>\n",
       "      <td>01n</td>\n",
       "    </tr>\n",
       "    <tr>\n",
       "      <th>2014-12-31 19:00:00</th>\n",
       "      <td>2014-12-31 18:00:00</td>\n",
       "      <td>2015-01-01 01:00:00 +0000 UTC</td>\n",
       "      <td>-21600</td>\n",
       "      <td>Connexus Anoka MN</td>\n",
       "      <td>45.234472</td>\n",
       "      <td>-93.480455</td>\n",
       "      <td>-11.49</td>\n",
       "      <td>-17.13</td>\n",
       "      <td>-11.88</td>\n",
       "      <td>-11.0</td>\n",
       "      <td>...</td>\n",
       "      <td>220</td>\n",
       "      <td>NaN</td>\n",
       "      <td>NaN</td>\n",
       "      <td>NaN</td>\n",
       "      <td>NaN</td>\n",
       "      <td>1</td>\n",
       "      <td>800</td>\n",
       "      <td>Clear</td>\n",
       "      <td>sky is clear</td>\n",
       "      <td>01n</td>\n",
       "    </tr>\n",
       "  </tbody>\n",
       "</table>\n",
       "<p>2 rows × 25 columns</p>\n",
       "</div>"
      ],
      "text/plain": [
       "                                     dt                         dt_iso  \\\n",
       "2014-12-31 18:00:00 2014-12-31 18:00:00  2015-01-01 00:00:00 +0000 UTC   \n",
       "2014-12-31 19:00:00 2014-12-31 18:00:00  2015-01-01 01:00:00 +0000 UTC   \n",
       "\n",
       "                     timezone          city_name        lat        lon   temp  \\\n",
       "2014-12-31 18:00:00    -21600  Connexus Anoka MN  45.234472 -93.480455 -11.49   \n",
       "2014-12-31 19:00:00    -21600  Connexus Anoka MN  45.234472 -93.480455 -11.49   \n",
       "\n",
       "                     feels_like  temp_min  temp_max  ...  wind_deg  rain_1h  \\\n",
       "2014-12-31 18:00:00      -17.83    -11.87     -11.0  ...       230      NaN   \n",
       "2014-12-31 19:00:00      -17.13    -11.88     -11.0  ...       220      NaN   \n",
       "\n",
       "                     rain_3h  snow_1h  snow_3h  clouds_all  weather_id  \\\n",
       "2014-12-31 18:00:00      NaN      NaN      NaN           1         800   \n",
       "2014-12-31 19:00:00      NaN      NaN      NaN           1         800   \n",
       "\n",
       "                     weather_main  weather_description  weather_icon  \n",
       "2014-12-31 18:00:00         Clear         sky is clear           01n  \n",
       "2014-12-31 19:00:00         Clear         sky is clear           01n  \n",
       "\n",
       "[2 rows x 25 columns]"
      ]
     },
     "execution_count": 19,
     "metadata": {},
     "output_type": "execute_result"
    }
   ],
   "source": [
    "df1[\"dt\"]= new[0]\n",
    "df1.head(2)"
   ]
  },
  {
   "cell_type": "code",
   "execution_count": 20,
   "metadata": {},
   "outputs": [
    {
     "data": {
      "text/plain": [
       "0        -3.354438\n",
       "1        -3.354438\n",
       "2        -3.243161\n",
       "3        -2.683170\n",
       "4        -1.749241\n",
       "           ...    \n",
       "47618    11.285216\n",
       "47619     8.820624\n",
       "47620     8.820624\n",
       "47621     8.105281\n",
       "47622     6.584907\n",
       "Length: 47623, dtype: float64"
      ]
     },
     "execution_count": 20,
     "metadata": {},
     "output_type": "execute_result"
    }
   ],
   "source": [
    "dp"
   ]
  },
  {
   "cell_type": "code",
   "execution_count": 21,
   "metadata": {},
   "outputs": [],
   "source": [
    "df2 = df.set_index(dp)"
   ]
  },
  {
   "cell_type": "code",
   "execution_count": 22,
   "metadata": {},
   "outputs": [],
   "source": [
    "new1=dp"
   ]
  },
  {
   "cell_type": "code",
   "execution_count": 23,
   "metadata": {},
   "outputs": [
    {
     "data": {
      "text/html": [
       "<div>\n",
       "<style scoped>\n",
       "    .dataframe tbody tr th:only-of-type {\n",
       "        vertical-align: middle;\n",
       "    }\n",
       "\n",
       "    .dataframe tbody tr th {\n",
       "        vertical-align: top;\n",
       "    }\n",
       "\n",
       "    .dataframe thead th {\n",
       "        text-align: right;\n",
       "    }\n",
       "</style>\n",
       "<table border=\"1\" class=\"dataframe\">\n",
       "  <thead>\n",
       "    <tr style=\"text-align: right;\">\n",
       "      <th></th>\n",
       "      <th>dt</th>\n",
       "      <th>dt_iso</th>\n",
       "      <th>timezone</th>\n",
       "      <th>city_name</th>\n",
       "      <th>lat</th>\n",
       "      <th>lon</th>\n",
       "      <th>temp</th>\n",
       "      <th>feels_like</th>\n",
       "      <th>temp_min</th>\n",
       "      <th>temp_max</th>\n",
       "      <th>...</th>\n",
       "      <th>wind_deg</th>\n",
       "      <th>rain_1h</th>\n",
       "      <th>rain_3h</th>\n",
       "      <th>snow_1h</th>\n",
       "      <th>snow_3h</th>\n",
       "      <th>clouds_all</th>\n",
       "      <th>weather_id</th>\n",
       "      <th>weather_main</th>\n",
       "      <th>weather_description</th>\n",
       "      <th>weather_icon</th>\n",
       "    </tr>\n",
       "  </thead>\n",
       "  <tbody>\n",
       "    <tr>\n",
       "      <th>-3.354438</th>\n",
       "      <td>1420070400</td>\n",
       "      <td>-3.354438</td>\n",
       "      <td>-21600</td>\n",
       "      <td>Connexus Anoka MN</td>\n",
       "      <td>45.234472</td>\n",
       "      <td>-93.480455</td>\n",
       "      <td>-11.49</td>\n",
       "      <td>-17.83</td>\n",
       "      <td>-11.87</td>\n",
       "      <td>-11.0</td>\n",
       "      <td>...</td>\n",
       "      <td>230</td>\n",
       "      <td>NaN</td>\n",
       "      <td>NaN</td>\n",
       "      <td>NaN</td>\n",
       "      <td>NaN</td>\n",
       "      <td>1</td>\n",
       "      <td>800</td>\n",
       "      <td>Clear</td>\n",
       "      <td>sky is clear</td>\n",
       "      <td>01n</td>\n",
       "    </tr>\n",
       "    <tr>\n",
       "      <th>-3.354438</th>\n",
       "      <td>1420074000</td>\n",
       "      <td>-3.354438</td>\n",
       "      <td>-21600</td>\n",
       "      <td>Connexus Anoka MN</td>\n",
       "      <td>45.234472</td>\n",
       "      <td>-93.480455</td>\n",
       "      <td>-11.49</td>\n",
       "      <td>-17.13</td>\n",
       "      <td>-11.88</td>\n",
       "      <td>-11.0</td>\n",
       "      <td>...</td>\n",
       "      <td>220</td>\n",
       "      <td>NaN</td>\n",
       "      <td>NaN</td>\n",
       "      <td>NaN</td>\n",
       "      <td>NaN</td>\n",
       "      <td>1</td>\n",
       "      <td>800</td>\n",
       "      <td>Clear</td>\n",
       "      <td>sky is clear</td>\n",
       "      <td>01n</td>\n",
       "    </tr>\n",
       "  </tbody>\n",
       "</table>\n",
       "<p>2 rows × 25 columns</p>\n",
       "</div>"
      ],
      "text/plain": [
       "                   dt    dt_iso  timezone          city_name        lat  \\\n",
       "-3.354438  1420070400 -3.354438    -21600  Connexus Anoka MN  45.234472   \n",
       "-3.354438  1420074000 -3.354438    -21600  Connexus Anoka MN  45.234472   \n",
       "\n",
       "                 lon   temp  feels_like  temp_min  temp_max  ...  wind_deg  \\\n",
       "-3.354438 -93.480455 -11.49      -17.83    -11.87     -11.0  ...       230   \n",
       "-3.354438 -93.480455 -11.49      -17.13    -11.88     -11.0  ...       220   \n",
       "\n",
       "           rain_1h  rain_3h  snow_1h  snow_3h  clouds_all  weather_id  \\\n",
       "-3.354438      NaN      NaN      NaN      NaN           1         800   \n",
       "-3.354438      NaN      NaN      NaN      NaN           1         800   \n",
       "\n",
       "           weather_main  weather_description  weather_icon  \n",
       "-3.354438         Clear         sky is clear           01n  \n",
       "-3.354438         Clear         sky is clear           01n  \n",
       "\n",
       "[2 rows x 25 columns]"
      ]
     },
     "execution_count": 23,
     "metadata": {},
     "output_type": "execute_result"
    }
   ],
   "source": [
    "df2[\"dt_iso\"]= new1[0]\n",
    "df2.head(2)"
   ]
  },
  {
   "cell_type": "code",
   "execution_count": 24,
   "metadata": {},
   "outputs": [
    {
     "data": {
      "text/plain": [
       "Index(['dt', 'dt_iso', 'timezone', 'city_name', 'lat', 'lon', 'temp',\n",
       "       'feels_like', 'temp_min', 'temp_max', 'pressure', 'sea_level',\n",
       "       'grnd_level', 'humidity', 'wind_speed', 'wind_deg', 'rain_1h',\n",
       "       'rain_3h', 'snow_1h', 'snow_3h', 'clouds_all', 'weather_id',\n",
       "       'weather_main', 'weather_description', 'weather_icon'],\n",
       "      dtype='object')"
      ]
     },
     "execution_count": 24,
     "metadata": {},
     "output_type": "execute_result"
    }
   ],
   "source": [
    "df2.columns"
   ]
  },
  {
   "cell_type": "code",
   "execution_count": 25,
   "metadata": {},
   "outputs": [
    {
     "data": {
      "text/html": [
       "<div>\n",
       "<style scoped>\n",
       "    .dataframe tbody tr th:only-of-type {\n",
       "        vertical-align: middle;\n",
       "    }\n",
       "\n",
       "    .dataframe tbody tr th {\n",
       "        vertical-align: top;\n",
       "    }\n",
       "\n",
       "    .dataframe thead th {\n",
       "        text-align: right;\n",
       "    }\n",
       "</style>\n",
       "<table border=\"1\" class=\"dataframe\">\n",
       "  <thead>\n",
       "    <tr style=\"text-align: right;\">\n",
       "      <th></th>\n",
       "      <th>dt</th>\n",
       "      <th>city_name</th>\n",
       "      <th>lat</th>\n",
       "      <th>lon</th>\n",
       "      <th>dt_iso</th>\n",
       "      <th>temp</th>\n",
       "      <th>feels_like</th>\n",
       "      <th>temp_min</th>\n",
       "      <th>temp_max</th>\n",
       "      <th>pressure</th>\n",
       "      <th>...</th>\n",
       "      <th>wind_speed</th>\n",
       "      <th>wind_deg</th>\n",
       "      <th>rain_1h</th>\n",
       "      <th>rain_3h</th>\n",
       "      <th>snow_1h</th>\n",
       "      <th>snow_3h</th>\n",
       "      <th>clouds_all</th>\n",
       "      <th>weather_id</th>\n",
       "      <th>weather_main</th>\n",
       "      <th>weather_icon</th>\n",
       "    </tr>\n",
       "  </thead>\n",
       "  <tbody>\n",
       "    <tr>\n",
       "      <th>-3.354438</th>\n",
       "      <td>1420070400</td>\n",
       "      <td>Connexus Anoka MN</td>\n",
       "      <td>45.234472</td>\n",
       "      <td>-93.480455</td>\n",
       "      <td>-3.354438</td>\n",
       "      <td>-11.49</td>\n",
       "      <td>-17.83</td>\n",
       "      <td>-11.87</td>\n",
       "      <td>-11.0</td>\n",
       "      <td>1018</td>\n",
       "      <td>...</td>\n",
       "      <td>4.1</td>\n",
       "      <td>230</td>\n",
       "      <td>NaN</td>\n",
       "      <td>NaN</td>\n",
       "      <td>NaN</td>\n",
       "      <td>NaN</td>\n",
       "      <td>1</td>\n",
       "      <td>800</td>\n",
       "      <td>Clear</td>\n",
       "      <td>01n</td>\n",
       "    </tr>\n",
       "    <tr>\n",
       "      <th>-3.354438</th>\n",
       "      <td>1420074000</td>\n",
       "      <td>Connexus Anoka MN</td>\n",
       "      <td>45.234472</td>\n",
       "      <td>-93.480455</td>\n",
       "      <td>-3.354438</td>\n",
       "      <td>-11.49</td>\n",
       "      <td>-17.13</td>\n",
       "      <td>-11.88</td>\n",
       "      <td>-11.0</td>\n",
       "      <td>1018</td>\n",
       "      <td>...</td>\n",
       "      <td>3.1</td>\n",
       "      <td>220</td>\n",
       "      <td>NaN</td>\n",
       "      <td>NaN</td>\n",
       "      <td>NaN</td>\n",
       "      <td>NaN</td>\n",
       "      <td>1</td>\n",
       "      <td>800</td>\n",
       "      <td>Clear</td>\n",
       "      <td>01n</td>\n",
       "    </tr>\n",
       "  </tbody>\n",
       "</table>\n",
       "<p>2 rows × 21 columns</p>\n",
       "</div>"
      ],
      "text/plain": [
       "                   dt          city_name        lat        lon    dt_iso  \\\n",
       "-3.354438  1420070400  Connexus Anoka MN  45.234472 -93.480455 -3.354438   \n",
       "-3.354438  1420074000  Connexus Anoka MN  45.234472 -93.480455 -3.354438   \n",
       "\n",
       "            temp  feels_like  temp_min  temp_max  pressure  ...  wind_speed  \\\n",
       "-3.354438 -11.49      -17.83    -11.87     -11.0      1018  ...         4.1   \n",
       "-3.354438 -11.49      -17.13    -11.88     -11.0      1018  ...         3.1   \n",
       "\n",
       "           wind_deg  rain_1h  rain_3h  snow_1h  snow_3h  clouds_all  \\\n",
       "-3.354438       230      NaN      NaN      NaN      NaN           1   \n",
       "-3.354438       220      NaN      NaN      NaN      NaN           1   \n",
       "\n",
       "           weather_id  weather_main weather_icon  \n",
       "-3.354438         800         Clear          01n  \n",
       "-3.354438         800         Clear          01n  \n",
       "\n",
       "[2 rows x 21 columns]"
      ]
     },
     "execution_count": 25,
     "metadata": {},
     "output_type": "execute_result"
    }
   ],
   "source": [
    "df3 = df2.filter(items=['dt', 'city_name', 'lat', 'lon', 'dt_iso','temp', 'feels_like', 'temp_min','temp_max','pressure','humidity','wind_speed','wind_deg','rain_1h','rain_3h','snow_1h','snow_3h','clouds_all','weather_id','weather_main','weathed_description','weather_icon'])\n",
    "df3.head(2)\n",
    "#weather_data.tail()"
   ]
  },
  {
   "cell_type": "code",
   "execution_count": 26,
   "metadata": {},
   "outputs": [
    {
     "data": {
      "text/plain": [
       "Index(['dt', 'city_name', 'lat', 'lon', 'dt_iso', 'temp', 'feels_like',\n",
       "       'temp_min', 'temp_max', 'pressure', 'humidity', 'wind_speed',\n",
       "       'wind_deg', 'rain_1h', 'rain_3h', 'snow_1h', 'snow_3h', 'clouds_all',\n",
       "       'weather_id', 'weather_main', 'weather_icon'],\n",
       "      dtype='object')"
      ]
     },
     "execution_count": 26,
     "metadata": {},
     "output_type": "execute_result"
    }
   ],
   "source": [
    "df3.columns"
   ]
  },
  {
   "cell_type": "code",
   "execution_count": 27,
   "metadata": {},
   "outputs": [
    {
     "data": {
      "text/html": [
       "<div>\n",
       "<style scoped>\n",
       "    .dataframe tbody tr th:only-of-type {\n",
       "        vertical-align: middle;\n",
       "    }\n",
       "\n",
       "    .dataframe tbody tr th {\n",
       "        vertical-align: top;\n",
       "    }\n",
       "\n",
       "    .dataframe thead th {\n",
       "        text-align: right;\n",
       "    }\n",
       "</style>\n",
       "<table border=\"1\" class=\"dataframe\">\n",
       "  <thead>\n",
       "    <tr style=\"text-align: right;\">\n",
       "      <th></th>\n",
       "      <th>Datetime</th>\n",
       "      <th>CityName</th>\n",
       "      <th>Latitude</th>\n",
       "      <th>Longitude</th>\n",
       "      <th>DewPoint</th>\n",
       "      <th>Temperature</th>\n",
       "      <th>Feels_Like</th>\n",
       "      <th>Min_Temperature</th>\n",
       "      <th>Max_Temperature</th>\n",
       "      <th>Pressure</th>\n",
       "      <th>...</th>\n",
       "      <th>WindSpeed</th>\n",
       "      <th>wind_deg</th>\n",
       "      <th>Rain_1h</th>\n",
       "      <th>Rain_3h</th>\n",
       "      <th>Snow_1h</th>\n",
       "      <th>Snow_3h</th>\n",
       "      <th>Clouds</th>\n",
       "      <th>WeatherID</th>\n",
       "      <th>WeatherMain</th>\n",
       "      <th>WeatherIcon</th>\n",
       "    </tr>\n",
       "  </thead>\n",
       "  <tbody>\n",
       "    <tr>\n",
       "      <th>-3.354438</th>\n",
       "      <td>1420070400</td>\n",
       "      <td>Connexus Anoka MN</td>\n",
       "      <td>45.234472</td>\n",
       "      <td>-93.480455</td>\n",
       "      <td>-3.354438</td>\n",
       "      <td>-11.49</td>\n",
       "      <td>-17.83</td>\n",
       "      <td>-11.87</td>\n",
       "      <td>-11.00</td>\n",
       "      <td>1018</td>\n",
       "      <td>...</td>\n",
       "      <td>4.1</td>\n",
       "      <td>230</td>\n",
       "      <td>NaN</td>\n",
       "      <td>NaN</td>\n",
       "      <td>NaN</td>\n",
       "      <td>NaN</td>\n",
       "      <td>1</td>\n",
       "      <td>800</td>\n",
       "      <td>Clear</td>\n",
       "      <td>01n</td>\n",
       "    </tr>\n",
       "    <tr>\n",
       "      <th>-3.354438</th>\n",
       "      <td>1420074000</td>\n",
       "      <td>Connexus Anoka MN</td>\n",
       "      <td>45.234472</td>\n",
       "      <td>-93.480455</td>\n",
       "      <td>-3.354438</td>\n",
       "      <td>-11.49</td>\n",
       "      <td>-17.13</td>\n",
       "      <td>-11.88</td>\n",
       "      <td>-11.00</td>\n",
       "      <td>1018</td>\n",
       "      <td>...</td>\n",
       "      <td>3.1</td>\n",
       "      <td>220</td>\n",
       "      <td>NaN</td>\n",
       "      <td>NaN</td>\n",
       "      <td>NaN</td>\n",
       "      <td>NaN</td>\n",
       "      <td>1</td>\n",
       "      <td>800</td>\n",
       "      <td>Clear</td>\n",
       "      <td>01n</td>\n",
       "    </tr>\n",
       "    <tr>\n",
       "      <th>-3.243161</th>\n",
       "      <td>1420077600</td>\n",
       "      <td>Connexus Anoka MN</td>\n",
       "      <td>45.234472</td>\n",
       "      <td>-93.480455</td>\n",
       "      <td>-3.354438</td>\n",
       "      <td>-11.76</td>\n",
       "      <td>-18.09</td>\n",
       "      <td>-12.00</td>\n",
       "      <td>-11.48</td>\n",
       "      <td>1018</td>\n",
       "      <td>...</td>\n",
       "      <td>4.1</td>\n",
       "      <td>220</td>\n",
       "      <td>NaN</td>\n",
       "      <td>NaN</td>\n",
       "      <td>NaN</td>\n",
       "      <td>NaN</td>\n",
       "      <td>75</td>\n",
       "      <td>803</td>\n",
       "      <td>Clouds</td>\n",
       "      <td>04n</td>\n",
       "    </tr>\n",
       "    <tr>\n",
       "      <th>-2.683170</th>\n",
       "      <td>1420081200</td>\n",
       "      <td>Connexus Anoka MN</td>\n",
       "      <td>45.234472</td>\n",
       "      <td>-93.480455</td>\n",
       "      <td>-3.354438</td>\n",
       "      <td>-11.24</td>\n",
       "      <td>-17.55</td>\n",
       "      <td>-12.10</td>\n",
       "      <td>-10.00</td>\n",
       "      <td>1017</td>\n",
       "      <td>...</td>\n",
       "      <td>4.1</td>\n",
       "      <td>220</td>\n",
       "      <td>NaN</td>\n",
       "      <td>NaN</td>\n",
       "      <td>NaN</td>\n",
       "      <td>NaN</td>\n",
       "      <td>90</td>\n",
       "      <td>804</td>\n",
       "      <td>Clouds</td>\n",
       "      <td>04n</td>\n",
       "    </tr>\n",
       "    <tr>\n",
       "      <th>-1.749241</th>\n",
       "      <td>1420084800</td>\n",
       "      <td>Connexus Anoka MN</td>\n",
       "      <td>45.234472</td>\n",
       "      <td>-93.480455</td>\n",
       "      <td>-3.354438</td>\n",
       "      <td>-10.75</td>\n",
       "      <td>-17.71</td>\n",
       "      <td>-11.48</td>\n",
       "      <td>-10.00</td>\n",
       "      <td>1017</td>\n",
       "      <td>...</td>\n",
       "      <td>5.1</td>\n",
       "      <td>240</td>\n",
       "      <td>NaN</td>\n",
       "      <td>NaN</td>\n",
       "      <td>NaN</td>\n",
       "      <td>NaN</td>\n",
       "      <td>90</td>\n",
       "      <td>804</td>\n",
       "      <td>Clouds</td>\n",
       "      <td>04n</td>\n",
       "    </tr>\n",
       "    <tr>\n",
       "      <th>...</th>\n",
       "      <td>...</td>\n",
       "      <td>...</td>\n",
       "      <td>...</td>\n",
       "      <td>...</td>\n",
       "      <td>...</td>\n",
       "      <td>...</td>\n",
       "      <td>...</td>\n",
       "      <td>...</td>\n",
       "      <td>...</td>\n",
       "      <td>...</td>\n",
       "      <td>...</td>\n",
       "      <td>...</td>\n",
       "      <td>...</td>\n",
       "      <td>...</td>\n",
       "      <td>...</td>\n",
       "      <td>...</td>\n",
       "      <td>...</td>\n",
       "      <td>...</td>\n",
       "      <td>...</td>\n",
       "      <td>...</td>\n",
       "      <td>...</td>\n",
       "    </tr>\n",
       "    <tr>\n",
       "      <th>11.285216</th>\n",
       "      <td>1586808000</td>\n",
       "      <td>Connexus Anoka MN</td>\n",
       "      <td>45.234472</td>\n",
       "      <td>-93.480455</td>\n",
       "      <td>-3.354438</td>\n",
       "      <td>0.59</td>\n",
       "      <td>-5.84</td>\n",
       "      <td>-1.11</td>\n",
       "      <td>2.22</td>\n",
       "      <td>1011</td>\n",
       "      <td>...</td>\n",
       "      <td>5.7</td>\n",
       "      <td>290</td>\n",
       "      <td>0.64</td>\n",
       "      <td>NaN</td>\n",
       "      <td>NaN</td>\n",
       "      <td>NaN</td>\n",
       "      <td>90</td>\n",
       "      <td>600</td>\n",
       "      <td>Snow</td>\n",
       "      <td>13d</td>\n",
       "    </tr>\n",
       "    <tr>\n",
       "      <th>8.820624</th>\n",
       "      <td>1586811600</td>\n",
       "      <td>Connexus Anoka MN</td>\n",
       "      <td>45.234472</td>\n",
       "      <td>-93.480455</td>\n",
       "      <td>-3.354438</td>\n",
       "      <td>0.80</td>\n",
       "      <td>-6.34</td>\n",
       "      <td>-0.56</td>\n",
       "      <td>2.00</td>\n",
       "      <td>1011</td>\n",
       "      <td>...</td>\n",
       "      <td>6.2</td>\n",
       "      <td>260</td>\n",
       "      <td>0.25</td>\n",
       "      <td>NaN</td>\n",
       "      <td>0.51</td>\n",
       "      <td>NaN</td>\n",
       "      <td>90</td>\n",
       "      <td>500</td>\n",
       "      <td>Rain</td>\n",
       "      <td>10d</td>\n",
       "    </tr>\n",
       "    <tr>\n",
       "      <th>8.820624</th>\n",
       "      <td>1586811600</td>\n",
       "      <td>Connexus Anoka MN</td>\n",
       "      <td>45.234472</td>\n",
       "      <td>-93.480455</td>\n",
       "      <td>-3.354438</td>\n",
       "      <td>0.80</td>\n",
       "      <td>-6.34</td>\n",
       "      <td>-0.56</td>\n",
       "      <td>2.00</td>\n",
       "      <td>1011</td>\n",
       "      <td>...</td>\n",
       "      <td>6.2</td>\n",
       "      <td>260</td>\n",
       "      <td>0.25</td>\n",
       "      <td>NaN</td>\n",
       "      <td>0.51</td>\n",
       "      <td>NaN</td>\n",
       "      <td>90</td>\n",
       "      <td>601</td>\n",
       "      <td>Snow</td>\n",
       "      <td>13d</td>\n",
       "    </tr>\n",
       "    <tr>\n",
       "      <th>8.105281</th>\n",
       "      <td>1586815200</td>\n",
       "      <td>Connexus Anoka MN</td>\n",
       "      <td>45.234472</td>\n",
       "      <td>-93.480455</td>\n",
       "      <td>-3.354438</td>\n",
       "      <td>0.96</td>\n",
       "      <td>-7.35</td>\n",
       "      <td>0.00</td>\n",
       "      <td>2.22</td>\n",
       "      <td>1012</td>\n",
       "      <td>...</td>\n",
       "      <td>7.7</td>\n",
       "      <td>290</td>\n",
       "      <td>0.51</td>\n",
       "      <td>NaN</td>\n",
       "      <td>NaN</td>\n",
       "      <td>NaN</td>\n",
       "      <td>90</td>\n",
       "      <td>500</td>\n",
       "      <td>Rain</td>\n",
       "      <td>10d</td>\n",
       "    </tr>\n",
       "    <tr>\n",
       "      <th>6.584907</th>\n",
       "      <td>1586818800</td>\n",
       "      <td>Connexus Anoka MN</td>\n",
       "      <td>45.234472</td>\n",
       "      <td>-93.480455</td>\n",
       "      <td>-3.354438</td>\n",
       "      <td>0.49</td>\n",
       "      <td>-7.65</td>\n",
       "      <td>-0.99</td>\n",
       "      <td>1.67</td>\n",
       "      <td>1012</td>\n",
       "      <td>...</td>\n",
       "      <td>7.2</td>\n",
       "      <td>290</td>\n",
       "      <td>NaN</td>\n",
       "      <td>NaN</td>\n",
       "      <td>NaN</td>\n",
       "      <td>NaN</td>\n",
       "      <td>90</td>\n",
       "      <td>804</td>\n",
       "      <td>Clouds</td>\n",
       "      <td>04d</td>\n",
       "    </tr>\n",
       "  </tbody>\n",
       "</table>\n",
       "<p>47623 rows × 21 columns</p>\n",
       "</div>"
      ],
      "text/plain": [
       "              Datetime           CityName   Latitude  Longitude  DewPoint  \\\n",
       "-3.354438   1420070400  Connexus Anoka MN  45.234472 -93.480455 -3.354438   \n",
       "-3.354438   1420074000  Connexus Anoka MN  45.234472 -93.480455 -3.354438   \n",
       "-3.243161   1420077600  Connexus Anoka MN  45.234472 -93.480455 -3.354438   \n",
       "-2.683170   1420081200  Connexus Anoka MN  45.234472 -93.480455 -3.354438   \n",
       "-1.749241   1420084800  Connexus Anoka MN  45.234472 -93.480455 -3.354438   \n",
       "...                ...                ...        ...        ...       ...   \n",
       " 11.285216  1586808000  Connexus Anoka MN  45.234472 -93.480455 -3.354438   \n",
       " 8.820624   1586811600  Connexus Anoka MN  45.234472 -93.480455 -3.354438   \n",
       " 8.820624   1586811600  Connexus Anoka MN  45.234472 -93.480455 -3.354438   \n",
       " 8.105281   1586815200  Connexus Anoka MN  45.234472 -93.480455 -3.354438   \n",
       " 6.584907   1586818800  Connexus Anoka MN  45.234472 -93.480455 -3.354438   \n",
       "\n",
       "            Temperature  Feels_Like  Min_Temperature  Max_Temperature  \\\n",
       "-3.354438        -11.49      -17.83           -11.87           -11.00   \n",
       "-3.354438        -11.49      -17.13           -11.88           -11.00   \n",
       "-3.243161        -11.76      -18.09           -12.00           -11.48   \n",
       "-2.683170        -11.24      -17.55           -12.10           -10.00   \n",
       "-1.749241        -10.75      -17.71           -11.48           -10.00   \n",
       "...                 ...         ...              ...              ...   \n",
       " 11.285216         0.59       -5.84            -1.11             2.22   \n",
       " 8.820624          0.80       -6.34            -0.56             2.00   \n",
       " 8.820624          0.80       -6.34            -0.56             2.00   \n",
       " 8.105281          0.96       -7.35             0.00             2.22   \n",
       " 6.584907          0.49       -7.65            -0.99             1.67   \n",
       "\n",
       "            Pressure  ...  WindSpeed  wind_deg  Rain_1h  Rain_3h  Snow_1h  \\\n",
       "-3.354438       1018  ...        4.1       230      NaN      NaN      NaN   \n",
       "-3.354438       1018  ...        3.1       220      NaN      NaN      NaN   \n",
       "-3.243161       1018  ...        4.1       220      NaN      NaN      NaN   \n",
       "-2.683170       1017  ...        4.1       220      NaN      NaN      NaN   \n",
       "-1.749241       1017  ...        5.1       240      NaN      NaN      NaN   \n",
       "...              ...  ...        ...       ...      ...      ...      ...   \n",
       " 11.285216      1011  ...        5.7       290     0.64      NaN      NaN   \n",
       " 8.820624       1011  ...        6.2       260     0.25      NaN     0.51   \n",
       " 8.820624       1011  ...        6.2       260     0.25      NaN     0.51   \n",
       " 8.105281       1012  ...        7.7       290     0.51      NaN      NaN   \n",
       " 6.584907       1012  ...        7.2       290      NaN      NaN      NaN   \n",
       "\n",
       "            Snow_3h  Clouds  WeatherID  WeatherMain WeatherIcon  \n",
       "-3.354438       NaN       1        800        Clear         01n  \n",
       "-3.354438       NaN       1        800        Clear         01n  \n",
       "-3.243161       NaN      75        803       Clouds         04n  \n",
       "-2.683170       NaN      90        804       Clouds         04n  \n",
       "-1.749241       NaN      90        804       Clouds         04n  \n",
       "...             ...     ...        ...          ...         ...  \n",
       " 11.285216      NaN      90        600         Snow         13d  \n",
       " 8.820624       NaN      90        500         Rain         10d  \n",
       " 8.820624       NaN      90        601         Snow         13d  \n",
       " 8.105281       NaN      90        500         Rain         10d  \n",
       " 6.584907       NaN      90        804       Clouds         04d  \n",
       "\n",
       "[47623 rows x 21 columns]"
      ]
     },
     "execution_count": 27,
     "metadata": {},
     "output_type": "execute_result"
    }
   ],
   "source": [
    "df3.rename(columns={\n",
    "    \"dt\": \"Datetime\",\n",
    "    \"city_name\": \"CityName\",\n",
    "    \"lat\": \"Latitude\",\n",
    "    \"lon\": \"Longitude\",\n",
    "    \"dt_iso\":\"DewPoint\",\n",
    "    \"temp\": \"Temperature\",\n",
    "    \"feels_like\": \"Feels_Like\",\n",
    "    \"temp_min\": \"Min_Temperature\",\n",
    "    \"temp_max\": \"Max_Temperature\",\n",
    "    \"pressure\": \"Pressure\",\n",
    "    \"humidity\": \"Humidity\",\n",
    "    \"wind_speed\": \"WindSpeed\",\n",
    "    \"rain_1h\": \"Rain_1h\",\n",
    "    \"rain_3h\": \"Rain_3h\",\n",
    "    \"snow_1h\": \"Snow_1h\",\n",
    "    \"snow_3h\": \"Snow_3h\",\n",
    "    \"clouds_all\": \"Clouds\",\n",
    "    \"weather_id\": \"WeatherID\",\n",
    "    \"weather_main\": \"WeatherMain\",\n",
    "    \"weather_icon\": \"WeatherIcon\"})\n",
    "    "
   ]
  },
  {
   "cell_type": "code",
   "execution_count": 175,
   "metadata": {},
   "outputs": [
    {
     "data": {
      "text/plain": [
       "Index(['dt', 'city_name', 'lat', 'lon', 'dt_iso', 'temp', 'feels_like',\n",
       "       'temp_min', 'temp_max', 'pressure', 'humidity', 'wind_speed',\n",
       "       'wind_deg', 'rain_1h', 'rain_3h', 'snow_1h', 'snow_3h', 'clouds_all',\n",
       "       'weather_id', 'weather_main', 'weather_icon'],\n",
       "      dtype='object')"
      ]
     },
     "execution_count": 175,
     "metadata": {},
     "output_type": "execute_result"
    }
   ],
   "source": [
    "df3.columns"
   ]
  },
  {
   "cell_type": "code",
   "execution_count": 34,
   "metadata": {},
   "outputs": [
    {
     "data": {
      "text/plain": [
       "Text(0.5, 1.0, 'clouds_all')"
      ]
     },
     "execution_count": 34,
     "metadata": {},
     "output_type": "execute_result"
    },
    {
     "data": {
      "image/png": "[encoded data removed]",
      "text/plain": [
       "<Figure size 432x288 with 1 Axes>"
      ]
     },
     "metadata": {
      "needs_background": "light"
     },
     "output_type": "display_data"
    }
   ],
   "source": [
    "fig, ax = plt.subplots()\n",
    "ax.plot(df.snow_3h)\n",
    "ax.set_title('clouds_all')"
   ]
  },
  {
   "cell_type": "code",
   "execution_count": 35,
   "metadata": {},
   "outputs": [
    {
     "data": {
      "text/plain": [
       "Text(0.5, 1.0, 'snow_1h')"
      ]
     },
     "execution_count": 35,
     "metadata": {},
     "output_type": "execute_result"
    },
    {
     "data": {
      "image/png": "[encoded data removed]",
      "text/plain": [
       "<Figure size 432x288 with 1 Axes>"
      ]
     },
     "metadata": {
      "needs_background": "light"
     },
     "output_type": "display_data"
    }
   ],
   "source": [
    "fig, ax = plt.subplots()\n",
    "ax.plot(df.snow_3h)\n",
    "ax.set_title('snow_1h')"
   ]
  },
  {
   "cell_type": "code",
   "execution_count": 36,
   "metadata": {},
   "outputs": [
    {
     "data": {
      "text/plain": [
       "Text(0.5, 1.0, 'snow_3h')"
      ]
     },
     "execution_count": 36,
     "metadata": {},
     "output_type": "execute_result"
    },
    {
     "data": {
      "image/png": "[encoded data removed]",
      "text/plain": [
       "<Figure size 432x288 with 1 Axes>"
      ]
     },
     "metadata": {
      "needs_background": "light"
     },
     "output_type": "display_data"
    }
   ],
   "source": [
    "fig, ax = plt.subplots()\n",
    "ax.plot(df.snow_3h)\n",
    "ax.set_title('snow_3h')"
   ]
  },
  {
   "cell_type": "code",
   "execution_count": 29,
   "metadata": {},
   "outputs": [
    {
     "data": {
      "text/plain": [
       "Text(0.5, 1.0, 'rain+3h')"
      ]
     },
     "execution_count": 29,
     "metadata": {},
     "output_type": "execute_result"
    },
    {
     "data": {
      "image/png": "[encoded data removed]",
      "text/plain": [
       "<Figure size 432x288 with 1 Axes>"
      ]
     },
     "metadata": {
      "needs_background": "light"
     },
     "output_type": "display_data"
    }
   ],
   "source": [
    "fig, ax = plt.subplots()\n",
    "ax.plot(df1.rain_1h)\n",
    "ax.set_title('rain+3h')"
   ]
  },
  {
   "cell_type": "code",
   "execution_count": 28,
   "metadata": {},
   "outputs": [
    {
     "data": {
      "text/plain": [
       "Text(0.5, 1.0, 'rain+1h')"
      ]
     },
     "execution_count": 28,
     "metadata": {},
     "output_type": "execute_result"
    },
    {
     "data": {
      "image/png": "[encoded data removed]",
      "text/plain": [
       "<Figure size 432x288 with 1 Axes>"
      ]
     },
     "metadata": {
      "needs_background": "light"
     },
     "output_type": "display_data"
    }
   ],
   "source": [
    "fig, ax = plt.subplots()\n",
    "ax.plot(df1.rain_1h)\n",
    "ax.set_title('rain+1h')"
   ]
  },
  {
   "cell_type": "code",
   "execution_count": 177,
   "metadata": {},
   "outputs": [
    {
     "data": {
      "text/plain": [
       "Text(0.5, 1.0, 'Temperature')"
      ]
     },
     "execution_count": 177,
     "metadata": {},
     "output_type": "execute_result"
    },
    {
     "data": {
      "image/png": "[encoded data removed]",
      "text/plain": [
       "<Figure size 432x288 with 1 Axes>"
      ]
     },
     "metadata": {
      "needs_background": "light"
     },
     "output_type": "display_data"
    }
   ],
   "source": [
    "fig, ax = plt.subplots()\n",
    "ax.plot(df1.temp)\n",
    "ax.set_title('Temperature')"
   ]
  },
  {
   "cell_type": "code",
   "execution_count": 165,
   "metadata": {},
   "outputs": [
    {
     "data": {
      "text/plain": [
       "Text(0.5, 1.0, 'Temperature_Min')"
      ]
     },
     "execution_count": 165,
     "metadata": {},
     "output_type": "execute_result"
    },
    {
     "data": {
      "image/png": "[encoded data removed]",
      "text/plain": [
       "<Figure size 432x288 with 1 Axes>"
      ]
     },
     "metadata": {
      "needs_background": "light"
     },
     "output_type": "display_data"
    }
   ],
   "source": [
    "fig, ax = plt.subplots()\n",
    "ax.plot(df1.temp_min)\n",
    "ax.set_title('Temperature_Min')"
   ]
  },
  {
   "cell_type": "code",
   "execution_count": 80,
   "metadata": {},
   "outputs": [
    {
     "data": {
      "text/plain": [
       "Text(0.5, 1.0, 'Temperature_Max')"
      ]
     },
     "execution_count": 80,
     "metadata": {},
     "output_type": "execute_result"
    },
    {
     "data": {
      "image/png": "[encoded data removed]",
      "text/plain": [
       "<Figure size 432x288 with 1 Axes>"
      ]
     },
     "metadata": {
      "needs_background": "light"
     },
     "output_type": "display_data"
    }
   ],
   "source": [
    "fig, ax = plt.subplots()\n",
    "ax.plot(df1.temp_max)\n",
    "ax.set_title('Temperature_Max')"
   ]
  },
  {
   "cell_type": "code",
   "execution_count": 81,
   "metadata": {},
   "outputs": [
    {
     "data": {
      "text/plain": [
       "Text(0.5, 1.0, 'Humidity')"
      ]
     },
     "execution_count": 81,
     "metadata": {},
     "output_type": "execute_result"
    },
    {
     "data": {
      "image/png": "[encoded data removed]",
      "text/plain": [
       "<Figure size 432x288 with 1 Axes>"
      ]
     },
     "metadata": {
      "needs_background": "light"
     },
     "output_type": "display_data"
    }
   ],
   "source": [
    "fig, ax = plt.subplots()\n",
    "ax.plot(df1.humidity)\n",
    "ax.set_title('Humidity')"
   ]
  },
  {
   "cell_type": "code",
   "execution_count": 82,
   "metadata": {},
   "outputs": [
    {
     "data": {
      "text/plain": [
       "Text(0.5, 1.0, 'Pressure')"
      ]
     },
     "execution_count": 82,
     "metadata": {},
     "output_type": "execute_result"
    },
    {
     "data": {
      "image/png": "[encoded data removed]",
      "text/plain": [
       "<Figure size 432x288 with 1 Axes>"
      ]
     },
     "metadata": {
      "needs_background": "light"
     },
     "output_type": "display_data"
    }
   ],
   "source": [
    "fig, ax = plt.subplots()\n",
    "ax.plot(df1.pressure)\n",
    "ax.set_title('Pressure')"
   ]
  },
  {
   "cell_type": "code",
   "execution_count": null,
   "metadata": {},
   "outputs": [],
   "source": [
    "'pressure', 'sea_level',\n",
    "       'grnd_level', 'humidity', 'wind_speed', 'wind_deg', 'rain_1h',\n",
    "       'rain_3h', 'snow_1h', 'snow_3h', 'clouds_al"
   ]
  },
  {
   "cell_type": "code",
   "execution_count": 83,
   "metadata": {},
   "outputs": [
    {
     "data": {
      "text/plain": [
       "Text(0.5, 1.0, 'wind_speed')"
      ]
     },
     "execution_count": 83,
     "metadata": {},
     "output_type": "execute_result"
    },
    {
     "data": {
      "image/png": "[encoded data removed]",
      "text/plain": [
       "<Figure size 432x288 with 1 Axes>"
      ]
     },
     "metadata": {
      "needs_background": "light"
     },
     "output_type": "display_data"
    }
   ],
   "source": [
    "fig, ax = plt.subplots()\n",
    "ax.plot(df1.wind_speed)\n",
    "ax.set_title('wind_speed')"
   ]
  },
  {
   "cell_type": "code",
   "execution_count": 84,
   "metadata": {},
   "outputs": [
    {
     "data": {
      "text/plain": [
       "Text(0.5, 1.0, 'wind_deg')"
      ]
     },
     "execution_count": 84,
     "metadata": {},
     "output_type": "execute_result"
    },
    {
     "data": {
      "image/png": "[encoded data removed]",
      "text/plain": [
       "<Figure size 432x288 with 1 Axes>"
      ]
     },
     "metadata": {
      "needs_background": "light"
     },
     "output_type": "display_data"
    }
   ],
   "source": [
    "fig, ax = plt.subplots()\n",
    "ax.plot(df1.wind_deg)\n",
    "ax.set_title('wind_deg')"
   ]
  },
  {
   "cell_type": "code",
   "execution_count": 98,
   "metadata": {},
   "outputs": [
    {
     "data": {
      "text/plain": [
       "Text(0.5, 1.0, 'dew_point')"
      ]
     },
     "execution_count": 98,
     "metadata": {},
     "output_type": "execute_result"
    },
    {
     "data": {
      "image/png": "[encoded data removed]",
      "text/plain": [
       "<Figure size 432x288 with 1 Axes>"
      ]
     },
     "metadata": {
      "needs_background": "light"
     },
     "output_type": "display_data"
    }
   ],
   "source": [
    "fig, ax = plt.subplots()\n",
    "ax.plot(dp)\n",
    "ax.set_title('dew_point')"
   ]
  },
  {
   "cell_type": "code",
   "execution_count": 173,
   "metadata": {},
   "outputs": [],
   "source": [
    "# Saving datatable into a csv file\n",
    "df4.to_csv('ConnexusAnokaMN.csv',index=False)"
   ]
  }
 ],
 "metadata": {
  "kernelspec": {
   "display_name": "Python 3",
   "language": "python",
   "name": "python3"
  },
  "language_info": {
   "codemirror_mode": {
    "name": "ipython",
    "version": 3
   },
   "file_extension": ".py",
   "mimetype": "text/x-python",
   "name": "python",
   "nbconvert_exporter": "python",
   "pygments_lexer": "ipython3",
   "version": "3.7.7"
  }
 },
 "nbformat": 4,
 "nbformat_minor": 4
}
